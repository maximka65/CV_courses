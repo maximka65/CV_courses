{
 "cells": [
  {
   "cell_type": "markdown",
   "metadata": {},
   "source": [
    "### Важные источники"
   ]
  },
  {
   "cell_type": "markdown",
   "metadata": {},
   "source": [
    "* https://pytorch.org/tutorials/\n",
    "\n",
    "* https://discuss.pytorch.org/\n",
    "\n",
    "* https://stackoverflow.com/ :)"
   ]
  },
  {
   "cell_type": "code",
   "execution_count": 2,
   "metadata": {},
   "outputs": [
    {
     "name": "stdout",
     "output_type": "stream",
     "text": [
      "Requirement already satisfied: torch in /Users/maximcucer/opt/anaconda3/lib/python3.8/site-packages (1.8.0)\n",
      "Requirement already satisfied: torchvision in /Users/maximcucer/opt/anaconda3/lib/python3.8/site-packages (0.9.0)\n",
      "Requirement already satisfied: typing_extensions in /Users/maximcucer/opt/anaconda3/lib/python3.8/site-packages (from torch) (3.7.4.3)\n",
      "Requirement already satisfied: numpy in /Users/maximcucer/opt/anaconda3/lib/python3.8/site-packages (from torch) (1.19.5)\n",
      "Requirement already satisfied: pillow>=4.1.1 in /Users/maximcucer/opt/anaconda3/lib/python3.8/site-packages (from torchvision) (8.3.2)\n"
     ]
    }
   ],
   "source": [
    "!pip install torch torchvision"
   ]
  },
  {
   "cell_type": "markdown",
   "metadata": {},
   "source": [
    "### Подключение "
   ]
  },
  {
   "cell_type": "code",
   "execution_count": 3,
   "metadata": {},
   "outputs": [],
   "source": [
    "import torch\n",
    "import torchvision"
   ]
  },
  {
   "cell_type": "markdown",
   "metadata": {},
   "source": [
    "### Некоторые основы и пару слов о  numpy"
   ]
  },
  {
   "cell_type": "code",
   "execution_count": 4,
   "metadata": {},
   "outputs": [],
   "source": [
    "import numpy as np"
   ]
  },
  {
   "cell_type": "markdown",
   "metadata": {},
   "source": [
    "Pytorch позволяет делать многие вещи так же, как и numpy. Это означает, что вы можете получить значение тензора в любой момент времени. Но так же, обратите внимание на некоторые отличия. Полная таблица расхождений расположена здесь: \n",
    "* https://github.com/torch/torch7/wiki/Torch-for-Numpy-users"
   ]
  },
  {
   "cell_type": "code",
   "execution_count": 5,
   "metadata": {},
   "outputs": [
    {
     "name": "stdout",
     "output_type": "stream",
     "text": [
      "X :\n",
      "[[0 1 2]\n",
      " [3 4 5]\n",
      " [6 7 8]]\n",
      "\n",
      "X размеры : (3, 3)\n",
      "\n",
      "X тип : <class 'numpy.ndarray'>\n",
      "\n"
     ]
    }
   ],
   "source": [
    "x = np.arange(9).reshape(3, 3)\n",
    "\n",
    "print(\"X :\\n%s\\n\" % x)\n",
    "print(\"X размеры : %s\\n\" % (x.shape,))\n",
    "print(\"X тип : %s\\n\" % (type(x)))\n",
    "# print(\"Добавим 10 :\\n%s\\n\" % (x + 10))\n",
    "# print(\"Среднее по строчке :\\n%s\\n\" % (x.mean(axis=-1)))\n",
    "# print(\"Среднее по столбцу :\\n%s\\n\" % (x.mean(axis=0)))"
   ]
  },
  {
   "cell_type": "markdown",
   "metadata": {},
   "source": [
    "##### PyTorch поддерживает разные типы тензоров:\n",
    "\n",
    "* HalfTensor: 16-bit float\n",
    "* FloatTensor: 32-bit float (torch.Tensor)\n",
    "* DoubleTensor: 64-bit float\n",
    "\n",
    "* ShortTensor: 16-bit int\n",
    "* IntTensor: 32-bit int\n",
    "* LongTensor: 64-bit int\n",
    "\n",
    "\n",
    "\n",
    "#####  Весь список:\n",
    "* https://pytorch.org/docs/stable/tensors.html"
   ]
  },
  {
   "cell_type": "markdown",
   "metadata": {},
   "source": [
    "##### Функция для вывода данных о тензоре:"
   ]
  },
  {
   "cell_type": "code",
   "execution_count": 6,
   "metadata": {},
   "outputs": [],
   "source": [
    "def print_tens_info(tensor):\n",
    "    print(\"X :\\n%s\\n\" % tensor)\n",
    "    print(\"X количество измерений:\\n%s\\n\" % tensor.dim())\n",
    "    print(\"X размеры : \",  tensor.size())\n",
    "    print(\"X тип : %s\\n\" % (tensor.type()))\n",
    "#     print(\"Добавим 10 :\\n%s\\n\" % (tensor + 10))\n",
    "#     print(\"Среднее по строчке :\\n%s\\n\" % (tensor.mean(axis=-1)))\n",
    "#     print(\"Среднее по столбцу :\\n%s\\n\" % (tensor.mean(axis=0)))\n",
    "    "
   ]
  },
  {
   "cell_type": "code",
   "execution_count": 7,
   "metadata": {},
   "outputs": [
    {
     "name": "stderr",
     "output_type": "stream",
     "text": [
      "<ipython-input-7-7514132001c6>:4: DeprecationWarning: an integer is required (got type float).  Implicit conversion to integers using __int__ is deprecated, and may be removed in a future version of Python.\n",
      "  x = torch.LongTensor([[1.0, 2.0],[2.0,3.0]])\n"
     ]
    }
   ],
   "source": [
    "# y = np.arange(9).reshape(3, 3).astype(float)\n",
    "# x = torch.tensor(y)  \n",
    "# x = torch.DoubleTensor(3, 3, 3)\n",
    "x = torch.LongTensor([[1.0, 2.0],[2.0,3.0]])  "
   ]
  },
  {
   "cell_type": "code",
   "execution_count": 8,
   "metadata": {
    "scrolled": true
   },
   "outputs": [
    {
     "name": "stdout",
     "output_type": "stream",
     "text": [
      "X :\n",
      "tensor([[1, 2],\n",
      "        [2, 3]])\n",
      "\n",
      "X количество измерений:\n",
      "2\n",
      "\n",
      "X размеры :  torch.Size([2, 2])\n",
      "X тип : torch.LongTensor\n",
      "\n"
     ]
    }
   ],
   "source": [
    "print_tens_info(x)"
   ]
  },
  {
   "cell_type": "code",
   "execution_count": 9,
   "metadata": {},
   "outputs": [],
   "source": [
    "x = torch.arange(9).view(3,3) \n",
    "x = torch.arange(0,9).view(3,3).type(torch.float32)\n",
    "# y = np.arange(9).reshape(3, 3).astype(float)"
   ]
  },
  {
   "cell_type": "code",
   "execution_count": 10,
   "metadata": {
    "scrolled": true
   },
   "outputs": [
    {
     "name": "stdout",
     "output_type": "stream",
     "text": [
      "X :\n",
      "tensor([[0., 1., 2.],\n",
      "        [3., 4., 5.],\n",
      "        [6., 7., 8.]])\n",
      "\n",
      "X количество измерений:\n",
      "2\n",
      "\n",
      "X размеры :  torch.Size([3, 3])\n",
      "X тип : torch.FloatTensor\n",
      "\n"
     ]
    }
   ],
   "source": [
    "print_tens_info(x)"
   ]
  },
  {
   "cell_type": "markdown",
   "metadata": {},
   "source": [
    "#####  Из numpy в tensor и обратно"
   ]
  },
  {
   "cell_type": "code",
   "execution_count": 11,
   "metadata": {
    "scrolled": true
   },
   "outputs": [
    {
     "name": "stdout",
     "output_type": "stream",
     "text": [
      "X :\n",
      "[[0. 1. 2.]\n",
      " [3. 4. 5.]\n",
      " [6. 7. 8.]]\n",
      "\n",
      "X размеры : (3, 3)\n",
      "\n",
      "X тип : <class 'numpy.ndarray'>\n",
      "\n"
     ]
    }
   ],
   "source": [
    "x = x.numpy()\n",
    "print(\"X :\\n%s\\n\" % x)\n",
    "print(\"X размеры : %s\\n\" % (x.shape,))\n",
    "print(\"X тип : %s\\n\" % (type(x)))\n",
    "# print(\"Добавим 10 :\\n%s\\n\" % (x + 10))\n",
    "# print(\"Среднее по строчке :\\n%s\\n\" % (x.mean(axis=-1)))\n",
    "# print(\"Среднее по столбцу :\\n%s\\n\" % (x.mean(axis=0)))"
   ]
  },
  {
   "cell_type": "code",
   "execution_count": 12,
   "metadata": {},
   "outputs": [
    {
     "name": "stdout",
     "output_type": "stream",
     "text": [
      "X :\n",
      "tensor([[ 0.4300, -0.4931, -2.0721],\n",
      "        [-0.9319,  0.0303, -0.3277],\n",
      "        [ 0.1252, -0.7440,  0.4124]])\n",
      "\n",
      "X количество измерений:\n",
      "2\n",
      "\n",
      "X размеры :  torch.Size([3, 3])\n",
      "X тип : torch.FloatTensor\n",
      "\n"
     ]
    }
   ],
   "source": [
    "x = torch.randn(3, 3)\n",
    "print_tens_info(x)"
   ]
  },
  {
   "cell_type": "markdown",
   "metadata": {},
   "source": [
    "#####  Некоторые отличия:"
   ]
  },
  {
   "cell_type": "markdown",
   "metadata": {},
   "source": [
    "* ```x.astype('int64') -> x.type(torch.LongTensor)```\n",
    "* ``` np.concatenate ->\ttorch.cat ```\n",
    "* ``` np.multiply ->\ttorch.cmul ```\n",
    "* ``` np.copy(x) ->\tx:clone() ```\n"
   ]
  },
  {
   "cell_type": "markdown",
   "metadata": {},
   "source": [
    "### Градиент"
   ]
  },
  {
   "attachments": {
    "Simple-graph-example-260x300.png": {
     "image/png": "[encoded data removed]"
    }
   },
   "cell_type": "markdown",
   "metadata": {},
   "source": [
    "$$a = (b + c)*(c + 2) $$\n",
    "![Simple-graph-example-260x300.png](attachment:Simple-graph-example-260x300.png)"
   ]
  },
  {
   "cell_type": "code",
   "execution_count": 13,
   "metadata": {},
   "outputs": [],
   "source": [
    "from torch.autograd import Variable"
   ]
  },
  {
   "cell_type": "code",
   "execution_count": 14,
   "metadata": {},
   "outputs": [
    {
     "data": {
      "text/plain": [
       "tensor([1., 1., 1.])"
      ]
     },
     "execution_count": 14,
     "metadata": {},
     "output_type": "execute_result"
    }
   ],
   "source": [
    "torch.ones(3)"
   ]
  },
  {
   "cell_type": "code",
   "execution_count": 15,
   "metadata": {},
   "outputs": [],
   "source": [
    "x = Variable(torch.ones(3), requires_grad = True)"
   ]
  },
  {
   "cell_type": "markdown",
   "metadata": {},
   "source": [
    "#### requires_grad \n",
    "Флаг, что необходимо автоматически вычислять градиент на тензоре при вызове функции .backward(). Если стоит False - градиент не нужен, обучение не происходит. \n",
    "Пример:"
   ]
  },
  {
   "cell_type": "code",
   "execution_count": 16,
   "metadata": {},
   "outputs": [
    {
     "name": "stdout",
     "output_type": "stream",
     "text": [
      "X :\n",
      "tensor([1., 1., 1.], requires_grad=True)\n",
      "\n",
      "X количество измерений:\n",
      "1\n",
      "\n",
      "X размеры :  torch.Size([3])\n",
      "X тип : torch.FloatTensor\n",
      "\n"
     ]
    }
   ],
   "source": [
    "print_tens_info(x)"
   ]
  },
  {
   "cell_type": "code",
   "execution_count": 17,
   "metadata": {},
   "outputs": [
    {
     "name": "stdout",
     "output_type": "stream",
     "text": [
      "None\n"
     ]
    }
   ],
   "source": [
    "print(x.grad)"
   ]
  },
  {
   "cell_type": "code",
   "execution_count": 18,
   "metadata": {},
   "outputs": [],
   "source": [
    "z = (x * x) + 5.0 * x #задание - посчитать производную ручками"
   ]
  },
  {
   "cell_type": "code",
   "execution_count": 19,
   "metadata": {},
   "outputs": [
    {
     "name": "stdout",
     "output_type": "stream",
     "text": [
      "X :\n",
      "tensor([6., 6., 6.], grad_fn=<AddBackward0>)\n",
      "\n",
      "X количество измерений:\n",
      "1\n",
      "\n",
      "X размеры :  torch.Size([3])\n",
      "X тип : torch.FloatTensor\n",
      "\n"
     ]
    }
   ],
   "source": [
    "print_tens_info(z)"
   ]
  },
  {
   "cell_type": "code",
   "execution_count": 20,
   "metadata": {},
   "outputs": [],
   "source": [
    "z.backward(torch.ones(3))"
   ]
  },
  {
   "cell_type": "code",
   "execution_count": 21,
   "metadata": {},
   "outputs": [
    {
     "name": "stdout",
     "output_type": "stream",
     "text": [
      "tensor([7., 7., 7.])\n"
     ]
    }
   ],
   "source": [
    "print(x.grad)"
   ]
  },
  {
   "cell_type": "markdown",
   "metadata": {},
   "source": [
    "#### Подключаемые модули"
   ]
  },
  {
   "cell_type": "code",
   "execution_count": 22,
   "metadata": {},
   "outputs": [],
   "source": [
    "from torch import nn \n",
    "from torch import optim"
   ]
  },
  {
   "cell_type": "markdown",
   "metadata": {},
   "source": [
    "* nn - формирование вычислительных графов для слоев нейронных сетей. TensorFlow: Keras.\n",
    "* optim - алгоритмы оптимизации (SGD, Adam и т.д.). TensorFlow: модуль optimizers"
   ]
  },
  {
   "cell_type": "code",
   "execution_count": 23,
   "metadata": {},
   "outputs": [],
   "source": [
    "linear = nn.Linear(2, 2)"
   ]
  },
  {
   "cell_type": "code",
   "execution_count": 24,
   "metadata": {
    "scrolled": true
   },
   "outputs": [
    {
     "name": "stdout",
     "output_type": "stream",
     "text": [
      "w:  Parameter containing:\n",
      "tensor([[ 0.3371, -0.5235],\n",
      "        [ 0.6529,  0.1501]], requires_grad=True)\n",
      "b:  Parameter containing:\n",
      "tensor([ 0.5275, -0.3178], requires_grad=True)\n"
     ]
    }
   ],
   "source": [
    "print ('w: ', linear.weight)\n",
    "print ('b: ', linear.bias)"
   ]
  },
  {
   "cell_type": "code",
   "execution_count": 25,
   "metadata": {},
   "outputs": [],
   "source": [
    "criterion = nn.MSELoss()"
   ]
  },
  {
   "cell_type": "code",
   "execution_count": 26,
   "metadata": {},
   "outputs": [],
   "source": [
    "optimizer = torch.optim.SGD(linear.parameters(), lr=0.01)"
   ]
  },
  {
   "cell_type": "code",
   "execution_count": 27,
   "metadata": {},
   "outputs": [],
   "source": [
    "x = Variable(torch.randn(2), requires_grad = True)\n",
    "y = Variable(torch.randn(2), requires_grad = False)"
   ]
  },
  {
   "cell_type": "code",
   "execution_count": 28,
   "metadata": {
    "scrolled": true
   },
   "outputs": [
    {
     "name": "stdout",
     "output_type": "stream",
     "text": [
      "loss:  2.1424779891967773\n"
     ]
    }
   ],
   "source": [
    "optimizer.zero_grad()\n",
    "pred = linear(x)\n",
    "loss = criterion(pred, y)\n",
    "print('loss: ', loss.item())"
   ]
  },
  {
   "cell_type": "code",
   "execution_count": 29,
   "metadata": {},
   "outputs": [
    {
     "name": "stdout",
     "output_type": "stream",
     "text": [
      "dL/dw:  None\n",
      "dL/db:  None\n"
     ]
    }
   ],
   "source": [
    "print ('dL/dw: ', linear.weight.grad) \n",
    "print ('dL/db: ', linear.bias.grad)"
   ]
  },
  {
   "cell_type": "code",
   "execution_count": 30,
   "metadata": {
    "scrolled": true
   },
   "outputs": [],
   "source": [
    "loss.backward()"
   ]
  },
  {
   "cell_type": "code",
   "execution_count": 31,
   "metadata": {},
   "outputs": [
    {
     "name": "stdout",
     "output_type": "stream",
     "text": [
      "dL/dw:  tensor([[-1.5548, -1.0231],\n",
      "        [ 2.8946,  1.9047]])\n",
      "dL/db:  tensor([ 0.9795, -1.8236])\n"
     ]
    }
   ],
   "source": [
    "print ('dL/dw: ', linear.weight.grad) \n",
    "print ('dL/db: ', linear.bias.grad)"
   ]
  },
  {
   "cell_type": "code",
   "execution_count": 32,
   "metadata": {},
   "outputs": [
    {
     "name": "stdout",
     "output_type": "stream",
     "text": [
      "w:  Parameter containing:\n",
      "tensor([[ 0.3371, -0.5235],\n",
      "        [ 0.6529,  0.1501]], requires_grad=True)\n",
      "b:  Parameter containing:\n",
      "tensor([ 0.5275, -0.3178], requires_grad=True)\n"
     ]
    }
   ],
   "source": [
    "print ('w: ', linear.weight)\n",
    "print ('b: ', linear.bias)"
   ]
  },
  {
   "cell_type": "code",
   "execution_count": 33,
   "metadata": {},
   "outputs": [],
   "source": [
    "optimizer.step()"
   ]
  },
  {
   "cell_type": "code",
   "execution_count": 34,
   "metadata": {},
   "outputs": [
    {
     "name": "stdout",
     "output_type": "stream",
     "text": [
      "w:  Parameter containing:\n",
      "tensor([[ 0.3527, -0.5133],\n",
      "        [ 0.6239,  0.1310]], requires_grad=True)\n",
      "b:  Parameter containing:\n",
      "tensor([ 0.5177, -0.2995], requires_grad=True)\n"
     ]
    }
   ],
   "source": [
    "print ('w: ', linear.weight)\n",
    "print ('b: ', linear.bias)"
   ]
  },
  {
   "attachments": {
    "a0Rv7LQ_700b.jpg": {
     "image/jpeg": "[encoded data removed]"
    }
   },
   "cell_type": "markdown",
   "metadata": {},
   "source": [
    "![a0Rv7LQ_700b.jpg](attachment:a0Rv7LQ_700b.jpg)"
   ]
  },
  {
   "cell_type": "markdown",
   "metadata": {},
   "source": [
    "# Попрактикуемся с более привычными функциями"
   ]
  },
  {
   "cell_type": "code",
   "execution_count": null,
   "metadata": {},
   "outputs": [],
   "source": [
    "# функция "
   ]
  },
  {
   "cell_type": "markdown",
   "metadata": {},
   "source": [
    "#### Подключение GPU "
   ]
  },
  {
   "cell_type": "code",
   "execution_count": 49,
   "metadata": {},
   "outputs": [
    {
     "name": "stdout",
     "output_type": "stream",
     "text": [
      "cuda:0\n"
     ]
    }
   ],
   "source": [
    "device = torch.device(\"cuda:0\" if torch.cuda.is_available() else \"cpu\")\n",
    "print(device)"
   ]
  },
  {
   "cell_type": "code",
   "execution_count": 50,
   "metadata": {},
   "outputs": [
    {
     "data": {
      "text/plain": [
       "tensor([[-1.1673e+00, -4.4547e-01,  1.0386e+00, -8.7516e-01, -3.5741e-01,\n",
       "          8.5138e-01, -1.1577e+00,  1.3708e+00, -5.2753e-01, -5.3392e-01],\n",
       "        [ 1.5675e-03, -3.4978e-01,  1.6073e+00, -1.7114e+00,  3.8542e-02,\n",
       "          3.1676e-01,  4.4632e-01, -1.1929e+00,  5.2055e-03, -6.4465e-01],\n",
       "        [ 1.4146e+00, -1.1439e-01,  1.2020e+00, -1.3957e-01, -1.9631e+00,\n",
       "          2.6970e-01, -6.7097e-01, -1.0678e+00,  8.9411e-01,  5.5723e-01],\n",
       "        [ 2.0426e-01,  1.3255e+00, -1.0611e+00, -3.0638e-01, -1.8725e-01,\n",
       "          5.4164e-01, -8.1759e-01,  1.0486e-01,  9.1875e-03, -2.4288e+00],\n",
       "        [-9.6765e-01, -1.0468e+00,  1.6859e-01,  1.0626e+00, -5.5881e-01,\n",
       "          3.3930e-01, -1.7819e-01, -4.2448e-01, -1.3382e+00, -5.8529e-01],\n",
       "        [ 1.2879e+00, -3.0908e-01,  5.6328e-01, -1.2010e+00,  1.4069e+00,\n",
       "          4.3076e-01, -6.8986e-01,  1.5604e+00, -4.8704e-01, -2.0964e+00],\n",
       "        [ 8.8558e-01, -4.8685e-01,  2.9001e-01,  1.5581e+00, -1.3618e+00,\n",
       "          1.5163e+00,  6.4413e-01, -1.0781e-01,  7.0673e-01,  6.7241e-01],\n",
       "        [ 7.2888e-01,  1.1845e-01, -1.7672e+00,  3.3296e-01,  4.5527e-01,\n",
       "         -1.4915e-01, -1.7216e+00, -3.7370e-02, -7.4740e-01, -2.7401e-02],\n",
       "        [-8.4331e-01, -3.0640e-01, -6.5792e-01, -1.0790e+00,  1.6824e-01,\n",
       "          7.0540e-01, -3.7004e-01,  1.1610e-01, -1.4765e-01,  4.2906e-01],\n",
       "        [ 2.0907e+00, -9.5635e-01, -4.8274e-01,  3.1891e-01, -9.2258e-01,\n",
       "         -1.8836e+00, -2.7632e-01, -1.3120e+00,  2.2688e-01,  9.2730e-01]],\n",
       "       device='cuda:0')"
      ]
     },
     "execution_count": 50,
     "metadata": {},
     "output_type": "execute_result"
    }
   ],
   "source": [
    "torch.randn(10, 10, device=device)"
   ]
  },
  {
   "cell_type": "code",
   "execution_count": 51,
   "metadata": {},
   "outputs": [
    {
     "data": {
      "text/plain": [
       "Net(\n",
       "  (conv1): Conv2d(3, 6, kernel_size=(5, 5), stride=(1, 1))\n",
       "  (pool): MaxPool2d(kernel_size=2, stride=2, padding=0, dilation=1, ceil_mode=False)\n",
       "  (conv2): Conv2d(6, 16, kernel_size=(5, 5), stride=(1, 1))\n",
       "  (fc1): Linear(in_features=400, out_features=120, bias=True)\n",
       "  (fc2): Linear(in_features=120, out_features=84, bias=True)\n",
       "  (fc3): Linear(in_features=84, out_features=10, bias=True)\n",
       ")"
      ]
     },
     "execution_count": 51,
     "metadata": {},
     "output_type": "execute_result"
    }
   ],
   "source": [
    "net.to(device)"
   ]
  },
  {
   "cell_type": "code",
   "execution_count": null,
   "metadata": {},
   "outputs": [],
   "source": []
  }
 ],
 "metadata": {
  "kernelspec": {
   "display_name": "Python 3",
   "language": "python",
   "name": "python3"
  },
  "language_info": {
   "codemirror_mode": {
    "name": "ipython",
    "version": 3
   },
   "file_extension": ".py",
   "mimetype": "text/x-python",
   "name": "python",
   "nbconvert_exporter": "python",
   "pygments_lexer": "ipython3",
   "version": "3.8.5"
  }
 },
 "nbformat": 4,
 "nbformat_minor": 4
}

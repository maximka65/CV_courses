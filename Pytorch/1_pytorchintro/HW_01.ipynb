{
 "cells": [
  {
   "cell_type": "code",
   "execution_count": 1,
   "metadata": {},
   "outputs": [],
   "source": [
    "import torch"
   ]
  },
  {
   "cell_type": "code",
   "execution_count": 2,
   "metadata": {},
   "outputs": [],
   "source": [
    "# Создайте случайный FloatTensor размера 3x4x5\n",
    "\n",
    "x = torch.rand(3, 4, 5).type(torch.float32)"
   ]
  },
  {
   "cell_type": "code",
   "execution_count": 3,
   "metadata": {},
   "outputs": [
    {
     "data": {
      "text/plain": [
       "torch.Size([3, 4, 5])"
      ]
     },
     "execution_count": 3,
     "metadata": {},
     "output_type": "execute_result"
    }
   ],
   "source": [
    "# Выведите его форму (shape)\n",
    "x.shape"
   ]
  },
  {
   "cell_type": "code",
   "execution_count": 4,
   "metadata": {},
   "outputs": [
    {
     "data": {
      "text/plain": [
       "tensor([[0.4388, 0.3571, 0.4206, 0.0885, 0.3868, 0.6712, 0.6933, 0.8090, 0.7708,\n",
       "         0.6158],\n",
       "        [0.5520, 0.0265, 0.0431, 0.4190, 0.1024, 0.9375, 0.7369, 0.2060, 0.8832,\n",
       "         0.4088],\n",
       "        [0.9927, 0.1758, 0.4769, 0.9981, 0.2011, 0.7184, 0.8774, 0.3517, 0.5306,\n",
       "         0.6843],\n",
       "        [0.9577, 0.6247, 0.2363, 0.0296, 0.4875, 0.4863, 0.6695, 0.8070, 0.3338,\n",
       "         0.1621],\n",
       "        [0.5925, 0.9180, 0.7076, 0.8747, 0.4128, 0.0360, 0.6286, 0.1174, 0.8843,\n",
       "         0.4653],\n",
       "        [0.2103, 0.0359, 0.5424, 0.5979, 0.8174, 0.1444, 0.0861, 0.6754, 0.4434,\n",
       "         0.4214]])"
      ]
     },
     "execution_count": 4,
     "metadata": {},
     "output_type": "execute_result"
    }
   ],
   "source": [
    "# Приведите его к форме 6 X 10\n",
    "x.view(6, 10)"
   ]
  },
  {
   "cell_type": "code",
   "execution_count": 5,
   "metadata": {},
   "outputs": [
    {
     "data": {
      "text/plain": [
       "tensor([[[0.4388, 1.4283, 0.8411, 0.1770, 0.3868],\n",
       "         [0.6712, 2.7733, 1.6181, 1.5415, 0.6158],\n",
       "         [0.5520, 0.1059, 0.0861, 0.8380, 0.1024],\n",
       "         [0.9375, 2.9476, 0.4120, 1.7664, 0.4088]],\n",
       "\n",
       "        [[0.9927, 0.7031, 0.9537, 1.9962, 0.2011],\n",
       "         [0.7184, 3.5095, 0.7035, 1.0612, 0.6843],\n",
       "         [0.9577, 2.4988, 0.4726, 0.0593, 0.4875],\n",
       "         [0.4863, 2.6781, 1.6139, 0.6676, 0.1621]],\n",
       "\n",
       "        [[0.5925, 3.6721, 1.4153, 1.7495, 0.4128],\n",
       "         [0.0360, 2.5142, 0.2347, 1.7685, 0.4653],\n",
       "         [0.2103, 0.1438, 1.0849, 1.1957, 0.8174],\n",
       "         [0.1444, 0.3443, 1.3507, 0.8869, 0.4214]]], dtype=torch.float64)"
      ]
     },
     "execution_count": 5,
     "metadata": {},
     "output_type": "execute_result"
    }
   ],
   "source": [
    "# Умножьте его на вектор [1, 4, 2, 2, 1] поэлементно\n",
    "x * torch.DoubleTensor([1, 4, 2, 2, 1])"
   ]
  },
  {
   "cell_type": "code",
   "execution_count": 6,
   "metadata": {},
   "outputs": [
    {
     "data": {
      "text/plain": [
       "tensor([[3.2134, 2.5858, 3.0704, 2.7344, 2.6455, 2.0065],\n",
       "        [2.5858, 2.9049, 3.1529, 2.0943, 2.2830, 1.3764],\n",
       "        [3.0704, 3.1529, 4.4397, 2.8095, 3.4493, 2.1752],\n",
       "        [2.7344, 2.0943, 2.8095, 3.0755, 2.4390, 1.6573],\n",
       "        [2.6455, 2.2830, 3.4493, 2.4390, 4.0387, 2.1286],\n",
       "        [2.0065, 1.3764, 2.1752, 1.6573, 2.1286, 2.2238]])"
      ]
     },
     "execution_count": 6,
     "metadata": {},
     "output_type": "execute_result"
    }
   ],
   "source": [
    "# Умножьте тензор матрично на себя, чтобы результат был размерности 6x6\n",
    "torch.matmul(x.view(6, 10), torch.transpose(x.view(6, 10), 1, 0))"
   ]
  },
  {
   "cell_type": "code",
   "execution_count": 7,
   "metadata": {},
   "outputs": [],
   "source": [
    "# Посчитайте производную функции y = x**3 + z - 75t в точке (1, 0.5, 2)\n",
    "from torch.autograd import Variable\n",
    "\n",
    "x = Variable(torch.FloatTensor([1]), requires_grad = True)\n",
    "z = Variable(torch.FloatTensor([0.5]), requires_grad = True)\n",
    "t = Variable(torch.FloatTensor([2]), requires_grad = True)\n",
    "\n",
    "y = x**3 + z -75*t"
   ]
  },
  {
   "cell_type": "code",
   "execution_count": 8,
   "metadata": {},
   "outputs": [],
   "source": [
    "y.backward([x, z, t])"
   ]
  },
  {
   "cell_type": "code",
   "execution_count": 9,
   "metadata": {},
   "outputs": [
    {
     "data": {
      "text/plain": [
       "tensor([3.])"
      ]
     },
     "execution_count": 9,
     "metadata": {},
     "output_type": "execute_result"
    }
   ],
   "source": [
    "x.grad"
   ]
  },
  {
   "cell_type": "code",
   "execution_count": 10,
   "metadata": {},
   "outputs": [
    {
     "data": {
      "text/plain": [
       "tensor([1.])"
      ]
     },
     "execution_count": 10,
     "metadata": {},
     "output_type": "execute_result"
    }
   ],
   "source": [
    "z.grad"
   ]
  },
  {
   "cell_type": "code",
   "execution_count": 11,
   "metadata": {},
   "outputs": [
    {
     "data": {
      "text/plain": [
       "tensor([-75.])"
      ]
     },
     "execution_count": 11,
     "metadata": {},
     "output_type": "execute_result"
    }
   ],
   "source": [
    "t.grad"
   ]
  },
  {
   "cell_type": "code",
   "execution_count": 12,
   "metadata": {},
   "outputs": [],
   "source": [
    "# Создайте единичный тензор размера 5x6\n",
    "\n",
    "x = torch.ones((5, 6))"
   ]
  },
  {
   "cell_type": "code",
   "execution_count": 13,
   "metadata": {},
   "outputs": [
    {
     "data": {
      "text/plain": [
       "array([[1., 1., 1., 1., 1., 1.],\n",
       "       [1., 1., 1., 1., 1., 1.],\n",
       "       [1., 1., 1., 1., 1., 1.],\n",
       "       [1., 1., 1., 1., 1., 1.],\n",
       "       [1., 1., 1., 1., 1., 1.]], dtype=float32)"
      ]
     },
     "execution_count": 13,
     "metadata": {},
     "output_type": "execute_result"
    }
   ],
   "source": [
    "# Переведите его в формат numpy\n",
    "x.numpy()"
   ]
  },
  {
   "cell_type": "code",
   "execution_count": 14,
   "metadata": {},
   "outputs": [],
   "source": [
    "# Давайте теперь пооптимизируем: возьмите функцию y = x**w1 - 2 * x**2 + 5\n",
    "# Посчитайте \n",
    "\n",
    "from torch import nn"
   ]
  },
  {
   "cell_type": "code",
   "execution_count": 15,
   "metadata": {},
   "outputs": [],
   "source": [
    "x = torch.FloatTensor([1])\n",
    "w = Variable(torch.FloatTensor([1]), requires_grad=True)\n",
    "\n",
    "y = x ** w -2 * x**2 + 5"
   ]
  },
  {
   "cell_type": "code",
   "execution_count": 16,
   "metadata": {},
   "outputs": [],
   "source": [
    "from torch import nn \n",
    "from torch import optim"
   ]
  },
  {
   "cell_type": "code",
   "execution_count": 17,
   "metadata": {},
   "outputs": [],
   "source": [
    "optimizer = optim.SGD([w], lr=0.01)\n",
    "criterion = nn.MSELoss()"
   ]
  },
  {
   "cell_type": "code",
   "execution_count": 18,
   "metadata": {},
   "outputs": [],
   "source": [
    "w = nn.Linear(1, 1, bias=False)"
   ]
  },
  {
   "cell_type": "code",
   "execution_count": 27,
   "metadata": {},
   "outputs": [
    {
     "data": {
      "text/plain": [
       "tensor(3.9970e+08, grad_fn=<MseLossBackward>)"
      ]
     },
     "execution_count": 27,
     "metadata": {},
     "output_type": "execute_result"
    }
   ],
   "source": [
    "optimizer.zero_grad()\n",
    "x = torch.FloatTensor([100])\n",
    "pred = x ** w(torch.FloatTensor([1])) -2 * x**2 + 5\n",
    "loss = criterion(pred, y)\n",
    "loss"
   ]
  },
  {
   "cell_type": "code",
   "execution_count": 25,
   "metadata": {},
   "outputs": [],
   "source": [
    "loss.backward()"
   ]
  },
  {
   "cell_type": "code",
   "execution_count": 28,
   "metadata": {},
   "outputs": [],
   "source": [
    "optimizer.step()"
   ]
  },
  {
   "cell_type": "code",
   "execution_count": 29,
   "metadata": {},
   "outputs": [
    {
     "data": {
      "text/plain": [
       "tensor([-19988.4746], grad_fn=<AddBackward0>)"
      ]
     },
     "execution_count": 29,
     "metadata": {},
     "output_type": "execute_result"
    }
   ],
   "source": [
    "pred"
   ]
  },
  {
   "cell_type": "code",
   "execution_count": 30,
   "metadata": {},
   "outputs": [
    {
     "data": {
      "text/plain": [
       "tensor([10.])"
      ]
     },
     "execution_count": 30,
     "metadata": {},
     "output_type": "execute_result"
    }
   ],
   "source": [
    "target = torch.FloatTensor([10])\n",
    "target"
   ]
  },
  {
   "cell_type": "code",
   "execution_count": 31,
   "metadata": {},
   "outputs": [
    {
     "data": {
      "text/plain": [
       "tensor([[-1201648.6250]])"
      ]
     },
     "execution_count": 31,
     "metadata": {},
     "output_type": "execute_result"
    }
   ],
   "source": [
    "w.weight.grad"
   ]
  },
  {
   "cell_type": "code",
   "execution_count": 32,
   "metadata": {},
   "outputs": [
    {
     "data": {
      "text/plain": [
       "Linear(in_features=1, out_features=1, bias=False)"
      ]
     },
     "execution_count": 32,
     "metadata": {},
     "output_type": "execute_result"
    }
   ],
   "source": [
    "w"
   ]
  },
  {
   "cell_type": "code",
   "execution_count": null,
   "metadata": {},
   "outputs": [],
   "source": []
  }
 ],
 "metadata": {
  "kernelspec": {
   "display_name": "Python 3",
   "language": "python",
   "name": "python3"
  },
  "language_info": {
   "codemirror_mode": {
    "name": "ipython",
    "version": 3
   },
   "file_extension": ".py",
   "mimetype": "text/x-python",
   "name": "python",
   "nbconvert_exporter": "python",
   "pygments_lexer": "ipython3",
   "version": "3.8.5"
  }
 },
 "nbformat": 4,
 "nbformat_minor": 2
}

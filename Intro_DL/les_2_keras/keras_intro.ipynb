{
  "nbformat": 4,
  "nbformat_minor": 0,
  "metadata": {
    "kernelspec": {
      "display_name": "Python 3",
      "language": "python",
      "name": "python3"
    },
    "language_info": {
      "codemirror_mode": {
        "name": "ipython",
        "version": 3
      },
      "file_extension": ".py",
      "mimetype": "text/x-python",
      "name": "python",
      "nbconvert_exporter": "python",
      "pygments_lexer": "ipython3",
      "version": "3.7.1"
    },
    "colab": {
      "name": "keras_intro.ipynb",
      "provenance": [],
      "collapsed_sections": []
    },
    "accelerator": "GPU"
  },
  "cells": [
    {
      "cell_type": "markdown",
      "metadata": {
        "id": "jnUt9U3_9U9x"
      },
      "source": [
        "## Простая нейросеть на Keras"
      ]
    },
    {
      "cell_type": "markdown",
      "metadata": {
        "id": "SAa_Lfn89U9y"
      },
      "source": [
        "Давайте попрубуем сделать нейросеть на Keras использую полученные выше знания. Попробуем обучить нейросеть различать рукописные цифры."
      ]
    },
    {
      "cell_type": "code",
      "metadata": {
        "id": "PVh4QXs9jPv1"
      },
      "source": [
        "import keras\n",
        "import matplotlib.pyplot as plt\n",
        "import pandas as pd"
      ],
      "execution_count": null,
      "outputs": []
    },
    {
      "cell_type": "code",
      "metadata": {
        "id": "hf6f_oe7EH7A"
      },
      "source": [
        "# Код нейронной сети в Keras!\n",
        "###############################\n",
        "import numpy as np\n",
        "#import mnist\n",
        "from keras.models import Sequential\n",
        "from keras.layers import Dense\n",
        "from keras.datasets import mnist\n",
        "from tensorflow.keras.utils import to_categorical"
      ],
      "execution_count": null,
      "outputs": []
    },
    {
      "cell_type": "code",
      "metadata": {
        "id": "hFo1_J0eEQ9k",
        "colab": {
          "base_uri": "https://localhost:8080/"
        },
        "outputId": "a7c256ec-213c-46bc-8930-766c1fa4d9d9"
      },
      "source": [
        "\n",
        "(train_imagesi,train_labels),(test_imagesi,test_labels)=mnist.load_data()\n",
        "\n",
        "# можно брать mnist из специальной библиотеки\n",
        "#train_images = mnist.train_images()\n",
        "#train_labels = mnist.train_labels()\n",
        "#test_images = mnist.test_images()\n",
        "#test_labels = mnist.test_labels()\n",
        "\n",
        "# приведем изображение к диапазону (-1,1).\n",
        "train_images = (train_imagesi / 127) - 1\n",
        "test_images = (test_imagesi / 127) - 1\n",
        "\n",
        "# делаем векторизацию, т.к. наши слои полносвязные и хотят на вход вектор.\n",
        "train_images = train_images.reshape((-1, 784))\n",
        "test_images = test_images.reshape((-1, 784))"
      ],
      "execution_count": null,
      "outputs": [
        {
          "output_type": "stream",
          "name": "stdout",
          "text": [
            "Downloading data from https://storage.googleapis.com/tensorflow/tf-keras-datasets/mnist.npz\n",
            "11493376/11490434 [==============================] - 0s 0us/step\n",
            "11501568/11490434 [==============================] - 0s 0us/step\n"
          ]
        }
      ]
    },
    {
      "cell_type": "markdown",
      "metadata": {
        "id": "rlO6abtO0oFX"
      },
      "source": [
        "Размер набора входных данных для обучения "
      ]
    },
    {
      "cell_type": "code",
      "metadata": {
        "id": "XLsN2KNiNHEf",
        "colab": {
          "base_uri": "https://localhost:8080/"
        },
        "outputId": "a3d0f5dd-d50d-4880-9a1e-919829fb39ec"
      },
      "source": [
        "train_images.shape"
      ],
      "execution_count": null,
      "outputs": [
        {
          "output_type": "execute_result",
          "data": {
            "text/plain": [
              "(60000, 784)"
            ]
          },
          "metadata": {},
          "execution_count": 4
        }
      ]
    },
    {
      "cell_type": "code",
      "metadata": {
        "id": "b0-xDKrNHNrv"
      },
      "source": [
        "def create(hidden_layers=2, name='my_model', n_neurons=100):\n",
        "  '''\n",
        "  Функция для создания нейросетей с hidden_layers числом скрытых слоев\n",
        "  и n_neurons нейронов\n",
        "  '''\n",
        "\n",
        "  model = Sequential(name=name)\n",
        "  model.add(Dense( 128, activation='relu', input_shape=(784,)))  \n",
        "  for k in range(hidden_layers):\n",
        "    model.add(Dense(  n_neurons, activation='tanh')) \n",
        "  model.add(Dense(10, activation='softmax')) \n",
        "\n",
        "  return model"
      ],
      "execution_count": null,
      "outputs": []
    },
    {
      "cell_type": "code",
      "metadata": {
        "id": "g3vfTmNDOBsw"
      },
      "source": [
        ""
      ],
      "execution_count": null,
      "outputs": []
    },
    {
      "cell_type": "markdown",
      "metadata": {
        "id": "oZG48jgOpNmT"
      },
      "source": [
        "Компилируем сеть с оптимизатором , функцией потерь и метрикой:"
      ]
    },
    {
      "cell_type": "markdown",
      "metadata": {
        "id": "Og3zBOXKUt6Q"
      },
      "source": [
        "Превратим выходы в векторые (OHE в keras - from keras.utils import to_categorical)"
      ]
    },
    {
      "cell_type": "code",
      "metadata": {
        "colab": {
          "base_uri": "https://localhost:8080/"
        },
        "id": "r4vfB93ZMa7k",
        "outputId": "83a7286c-f8d2-4ea5-c2f3-17b5827862b7"
      },
      "source": [
        "train_labels[:5]"
      ],
      "execution_count": null,
      "outputs": [
        {
          "output_type": "execute_result",
          "data": {
            "text/plain": [
              "array([5, 0, 4, 1, 9], dtype=uint8)"
            ]
          },
          "metadata": {},
          "execution_count": 6
        }
      ]
    },
    {
      "cell_type": "code",
      "metadata": {
        "id": "fXgYOrUwGwzG"
      },
      "source": [
        "y_t = to_categorical(train_labels)\n",
        "y_tt = to_categorical(test_labels)"
      ],
      "execution_count": null,
      "outputs": []
    },
    {
      "cell_type": "code",
      "metadata": {
        "colab": {
          "base_uri": "https://localhost:8080/"
        },
        "id": "lzughPN9IN5x",
        "outputId": "eb807e52-c5bf-4302-e8e4-37afd07c02d1"
      },
      "source": [
        "y_t.shape, train_images.shape"
      ],
      "execution_count": null,
      "outputs": [
        {
          "output_type": "execute_result",
          "data": {
            "text/plain": [
              "((60000, 10), (60000, 784))"
            ]
          },
          "metadata": {},
          "execution_count": 12
        }
      ]
    },
    {
      "cell_type": "code",
      "metadata": {
        "colab": {
          "base_uri": "https://localhost:8080/"
        },
        "id": "HWKHT3kpG6yw",
        "outputId": "dab5ca5b-8512-4207-d7d1-3f00f5887839"
      },
      "source": [
        "y_t[:3,:]"
      ],
      "execution_count": null,
      "outputs": [
        {
          "output_type": "execute_result",
          "data": {
            "text/plain": [
              "array([[0., 0., 0., 0., 0., 1., 0., 0., 0., 0.],\n",
              "       [1., 0., 0., 0., 0., 0., 0., 0., 0., 0.],\n",
              "       [0., 0., 0., 0., 1., 0., 0., 0., 0., 0.]], dtype=float32)"
            ]
          },
          "metadata": {},
          "execution_count": 8
        }
      ]
    },
    {
      "cell_type": "code",
      "metadata": {
        "colab": {
          "base_uri": "https://localhost:8080/"
        },
        "id": "13v9kMf5Ouq_",
        "outputId": "a42c7f65-af80-40a1-c2d6-101c77f522a7"
      },
      "source": [
        "train_labels[:5]"
      ],
      "execution_count": null,
      "outputs": [
        {
          "output_type": "execute_result",
          "data": {
            "text/plain": [
              "array([5, 0, 4, 1, 9], dtype=uint8)"
            ]
          },
          "metadata": {},
          "execution_count": 9
        }
      ]
    },
    {
      "cell_type": "markdown",
      "metadata": {
        "id": "Xk1EavOKVBqI"
      },
      "source": [
        "Проекспериментируем с разным количеством скрытых слоев."
      ]
    },
    {
      "cell_type": "code",
      "metadata": {
        "id": "K9GNyocaOhCE"
      },
      "source": [
        "models_results = [[],[]]"
      ],
      "execution_count": null,
      "outputs": []
    },
    {
      "cell_type": "code",
      "metadata": {
        "colab": {
          "base_uri": "https://localhost:8080/"
        },
        "id": "3xYyU_Q4M5JO",
        "outputId": "184a743c-ea3a-4eea-8267-44646dcc3258"
      },
      "source": [
        "models = []\n",
        "for i in [2, 3, 5, 10]:\n",
        "  model = create(i, name='model'+str(i))\n",
        "  model.compile(optimizer='adam',\n",
        "          loss=keras.losses.CategoricalCrossentropy(),\n",
        "          metrics=['accuracy'])\n",
        "  models.append(model) \n",
        "         \n",
        "  models_results[0].append(model.evaluate(test_images, y_tt))\n",
        "  "
      ],
      "execution_count": null,
      "outputs": [
        {
          "output_type": "stream",
          "name": "stdout",
          "text": [
            "313/313 [==============================] - 1s 3ms/step - loss: 2.4381 - accuracy: 0.1074\n",
            "313/313 [==============================] - 1s 3ms/step - loss: 2.4390 - accuracy: 0.0912\n",
            "313/313 [==============================] - 1s 3ms/step - loss: 2.4342 - accuracy: 0.1009\n",
            "313/313 [==============================] - 1s 3ms/step - loss: 2.3575 - accuracy: 0.0833\n"
          ]
        }
      ]
    },
    {
      "cell_type": "code",
      "metadata": {
        "colab": {
          "base_uri": "https://localhost:8080/"
        },
        "id": "x4XO-c0PcC26",
        "outputId": "5ce3c3cb-380c-44ac-908b-3c1d24d3eac7"
      },
      "source": [
        "models_results"
      ],
      "execution_count": null,
      "outputs": [
        {
          "output_type": "execute_result",
          "data": {
            "text/plain": [
              "[[[2.4381072521209717, 0.10740000009536743],\n",
              "  [2.4390292167663574, 0.09120000153779984],\n",
              "  [2.4342052936553955, 0.10090000182390213],\n",
              "  [2.357470989227295, 0.08330000191926956]],\n",
              " []]"
            ]
          },
          "metadata": {},
          "execution_count": 19
        }
      ]
    },
    {
      "cell_type": "code",
      "metadata": {
        "colab": {
          "base_uri": "https://localhost:8080/"
        },
        "id": "NZuZ_M-1Moeo",
        "outputId": "6cb64efd-b027-4362-d684-8be470ee69e5"
      },
      "source": [
        "u = 0\n",
        "for i in [2, 3, 5, 10]:\n",
        "  model = models[u]\n",
        "  model.fit(  \n",
        "    train_images[:,:],\n",
        "    y_t[:,:],\n",
        "    epochs=15,\n",
        "    batch_size=32, validation_split=0.2\n",
        "  )\n",
        "  u += 1\n",
        "  models_results[1].append(model.evaluate(test_images, y_tt))\n"
      ],
      "execution_count": null,
      "outputs": [
        {
          "output_type": "stream",
          "name": "stdout",
          "text": [
            "Epoch 1/15\n",
            "1500/1500 [==============================] - 6s 4ms/step - loss: 0.3206 - accuracy: 0.9014 - val_loss: 0.1891 - val_accuracy: 0.9408\n",
            "Epoch 2/15\n",
            "1500/1500 [==============================] - 6s 4ms/step - loss: 0.1655 - accuracy: 0.9487 - val_loss: 0.1346 - val_accuracy: 0.9597\n",
            "Epoch 3/15\n",
            "1500/1500 [==============================] - 6s 4ms/step - loss: 0.1326 - accuracy: 0.9594 - val_loss: 0.1468 - val_accuracy: 0.9557\n",
            "Epoch 4/15\n",
            "1500/1500 [==============================] - 5s 4ms/step - loss: 0.1115 - accuracy: 0.9650 - val_loss: 0.1341 - val_accuracy: 0.9591\n",
            "Epoch 5/15\n",
            "1500/1500 [==============================] - 6s 4ms/step - loss: 0.1020 - accuracy: 0.9676 - val_loss: 0.1451 - val_accuracy: 0.9566\n",
            "Epoch 6/15\n",
            "1500/1500 [==============================] - 6s 4ms/step - loss: 0.0954 - accuracy: 0.9700 - val_loss: 0.1041 - val_accuracy: 0.9689\n",
            "Epoch 7/15\n",
            "1500/1500 [==============================] - 5s 3ms/step - loss: 0.0807 - accuracy: 0.9744 - val_loss: 0.1203 - val_accuracy: 0.9643\n",
            "Epoch 8/15\n",
            "1500/1500 [==============================] - 6s 4ms/step - loss: 0.0787 - accuracy: 0.9750 - val_loss: 0.1239 - val_accuracy: 0.9635\n",
            "Epoch 9/15\n",
            "1500/1500 [==============================] - 6s 4ms/step - loss: 0.0721 - accuracy: 0.9763 - val_loss: 0.1086 - val_accuracy: 0.9692\n",
            "Epoch 10/15\n",
            "1500/1500 [==============================] - 5s 4ms/step - loss: 0.0661 - accuracy: 0.9781 - val_loss: 0.1048 - val_accuracy: 0.9714\n",
            "Epoch 11/15\n",
            "1500/1500 [==============================] - 5s 3ms/step - loss: 0.0656 - accuracy: 0.9789 - val_loss: 0.1007 - val_accuracy: 0.9724\n",
            "Epoch 12/15\n",
            "1500/1500 [==============================] - 5s 4ms/step - loss: 0.0585 - accuracy: 0.9816 - val_loss: 0.0988 - val_accuracy: 0.9703\n",
            "Epoch 13/15\n",
            "1500/1500 [==============================] - 6s 4ms/step - loss: 0.0588 - accuracy: 0.9814 - val_loss: 0.1086 - val_accuracy: 0.9697\n",
            "Epoch 14/15\n",
            "1500/1500 [==============================] - 5s 4ms/step - loss: 0.0525 - accuracy: 0.9833 - val_loss: 0.1028 - val_accuracy: 0.9708\n",
            "Epoch 15/15\n",
            "1500/1500 [==============================] - 5s 4ms/step - loss: 0.0548 - accuracy: 0.9822 - val_loss: 0.1034 - val_accuracy: 0.9722\n",
            "313/313 [==============================] - 1s 3ms/step - loss: 0.0942 - accuracy: 0.9735\n",
            "Epoch 1/15\n",
            "1500/1500 [==============================] - 7s 4ms/step - loss: 0.3288 - accuracy: 0.8991 - val_loss: 0.1841 - val_accuracy: 0.9456\n",
            "Epoch 2/15\n",
            "1500/1500 [==============================] - 6s 4ms/step - loss: 0.1776 - accuracy: 0.9451 - val_loss: 0.1409 - val_accuracy: 0.9594\n",
            "Epoch 3/15\n",
            "1500/1500 [==============================] - 6s 4ms/step - loss: 0.1421 - accuracy: 0.9571 - val_loss: 0.1322 - val_accuracy: 0.9618\n",
            "Epoch 4/15\n",
            "1500/1500 [==============================] - 6s 4ms/step - loss: 0.1225 - accuracy: 0.9616 - val_loss: 0.1514 - val_accuracy: 0.9551\n",
            "Epoch 5/15\n",
            "1500/1500 [==============================] - 6s 4ms/step - loss: 0.1082 - accuracy: 0.9661 - val_loss: 0.1238 - val_accuracy: 0.9638\n",
            "Epoch 6/15\n",
            "1500/1500 [==============================] - 6s 4ms/step - loss: 0.0971 - accuracy: 0.9697 - val_loss: 0.1310 - val_accuracy: 0.9625\n",
            "Epoch 7/15\n",
            "1500/1500 [==============================] - 6s 4ms/step - loss: 0.0928 - accuracy: 0.9705 - val_loss: 0.1355 - val_accuracy: 0.9622\n",
            "Epoch 8/15\n",
            "1500/1500 [==============================] - 6s 4ms/step - loss: 0.0877 - accuracy: 0.9733 - val_loss: 0.1658 - val_accuracy: 0.9541\n",
            "Epoch 9/15\n",
            "1500/1500 [==============================] - 6s 4ms/step - loss: 0.0794 - accuracy: 0.9750 - val_loss: 0.1303 - val_accuracy: 0.9643\n",
            "Epoch 10/15\n",
            "1500/1500 [==============================] - 6s 4ms/step - loss: 0.0782 - accuracy: 0.9755 - val_loss: 0.1433 - val_accuracy: 0.9619\n",
            "Epoch 11/15\n",
            "1500/1500 [==============================] - 6s 4ms/step - loss: 0.0725 - accuracy: 0.9770 - val_loss: 0.1086 - val_accuracy: 0.9682\n",
            "Epoch 12/15\n",
            "1500/1500 [==============================] - 6s 4ms/step - loss: 0.0655 - accuracy: 0.9795 - val_loss: 0.1185 - val_accuracy: 0.9671\n",
            "Epoch 13/15\n",
            "1500/1500 [==============================] - 6s 4ms/step - loss: 0.0663 - accuracy: 0.9792 - val_loss: 0.1280 - val_accuracy: 0.9639\n",
            "Epoch 14/15\n",
            "1500/1500 [==============================] - 6s 4ms/step - loss: 0.0654 - accuracy: 0.9791 - val_loss: 0.1305 - val_accuracy: 0.9652\n",
            "Epoch 15/15\n",
            "1500/1500 [==============================] - 6s 4ms/step - loss: 0.0610 - accuracy: 0.9807 - val_loss: 0.1205 - val_accuracy: 0.9677\n",
            "313/313 [==============================] - 1s 3ms/step - loss: 0.1164 - accuracy: 0.9676\n",
            "Epoch 1/15\n",
            "1500/1500 [==============================] - 7s 4ms/step - loss: 0.3474 - accuracy: 0.8956 - val_loss: 0.2633 - val_accuracy: 0.9147\n",
            "Epoch 2/15\n",
            "1500/1500 [==============================] - 6s 4ms/step - loss: 0.1933 - accuracy: 0.9420 - val_loss: 0.1623 - val_accuracy: 0.9554\n",
            "Epoch 3/15\n",
            "1500/1500 [==============================] - 7s 4ms/step - loss: 0.1589 - accuracy: 0.9517 - val_loss: 0.1714 - val_accuracy: 0.9520\n",
            "Epoch 4/15\n",
            "1500/1500 [==============================] - 6s 4ms/step - loss: 0.1377 - accuracy: 0.9584 - val_loss: 0.1297 - val_accuracy: 0.9632\n",
            "Epoch 5/15\n",
            "1500/1500 [==============================] - 7s 4ms/step - loss: 0.1279 - accuracy: 0.9617 - val_loss: 0.1322 - val_accuracy: 0.9622\n",
            "Epoch 6/15\n",
            "1500/1500 [==============================] - 6s 4ms/step - loss: 0.1190 - accuracy: 0.9648 - val_loss: 0.1352 - val_accuracy: 0.9614\n",
            "Epoch 7/15\n",
            "1500/1500 [==============================] - 7s 4ms/step - loss: 0.1077 - accuracy: 0.9677 - val_loss: 0.1410 - val_accuracy: 0.9618\n",
            "Epoch 8/15\n",
            "1500/1500 [==============================] - 6s 4ms/step - loss: 0.1046 - accuracy: 0.9680 - val_loss: 0.1503 - val_accuracy: 0.9594\n",
            "Epoch 9/15\n",
            "1500/1500 [==============================] - 6s 4ms/step - loss: 0.0979 - accuracy: 0.9704 - val_loss: 0.1269 - val_accuracy: 0.9645\n",
            "Epoch 10/15\n",
            "1500/1500 [==============================] - 6s 4ms/step - loss: 0.0929 - accuracy: 0.9710 - val_loss: 0.1292 - val_accuracy: 0.9628\n",
            "Epoch 11/15\n",
            "1500/1500 [==============================] - 7s 4ms/step - loss: 0.0866 - accuracy: 0.9741 - val_loss: 0.1357 - val_accuracy: 0.9634\n",
            "Epoch 12/15\n",
            "1500/1500 [==============================] - 6s 4ms/step - loss: 0.0861 - accuracy: 0.9742 - val_loss: 0.1284 - val_accuracy: 0.9660\n",
            "Epoch 13/15\n",
            "1500/1500 [==============================] - 6s 4ms/step - loss: 0.0852 - accuracy: 0.9739 - val_loss: 0.1270 - val_accuracy: 0.9644\n",
            "Epoch 14/15\n",
            "1500/1500 [==============================] - 7s 4ms/step - loss: 0.0786 - accuracy: 0.9764 - val_loss: 0.1571 - val_accuracy: 0.9593\n",
            "Epoch 15/15\n",
            "1500/1500 [==============================] - 6s 4ms/step - loss: 0.0771 - accuracy: 0.9765 - val_loss: 0.1284 - val_accuracy: 0.9667\n",
            "313/313 [==============================] - 1s 3ms/step - loss: 0.1140 - accuracy: 0.9692\n",
            "Epoch 1/15\n",
            "1500/1500 [==============================] - 9s 6ms/step - loss: 0.4194 - accuracy: 0.8754 - val_loss: 0.2597 - val_accuracy: 0.9294\n",
            "Epoch 2/15\n",
            "1500/1500 [==============================] - 8s 5ms/step - loss: 0.2541 - accuracy: 0.9275 - val_loss: 0.2460 - val_accuracy: 0.9313\n",
            "Epoch 3/15\n",
            "1500/1500 [==============================] - 8s 5ms/step - loss: 0.2090 - accuracy: 0.9416 - val_loss: 0.2178 - val_accuracy: 0.9367\n",
            "Epoch 4/15\n",
            "1500/1500 [==============================] - 8s 5ms/step - loss: 0.1934 - accuracy: 0.9468 - val_loss: 0.2519 - val_accuracy: 0.9342\n",
            "Epoch 5/15\n",
            "1500/1500 [==============================] - 8s 6ms/step - loss: 0.1819 - accuracy: 0.9497 - val_loss: 0.2212 - val_accuracy: 0.9388\n",
            "Epoch 6/15\n",
            "1500/1500 [==============================] - 8s 5ms/step - loss: 0.1659 - accuracy: 0.9542 - val_loss: 0.1809 - val_accuracy: 0.9521\n",
            "Epoch 7/15\n",
            "1500/1500 [==============================] - 8s 5ms/step - loss: 0.1591 - accuracy: 0.9556 - val_loss: 0.1817 - val_accuracy: 0.9537\n",
            "Epoch 8/15\n",
            "1500/1500 [==============================] - 8s 5ms/step - loss: 0.1512 - accuracy: 0.9584 - val_loss: 0.1757 - val_accuracy: 0.9524\n",
            "Epoch 9/15\n",
            "1500/1500 [==============================] - 8s 5ms/step - loss: 0.1486 - accuracy: 0.9593 - val_loss: 0.1734 - val_accuracy: 0.9547\n",
            "Epoch 10/15\n",
            "1500/1500 [==============================] - 8s 5ms/step - loss: 0.1449 - accuracy: 0.9611 - val_loss: 0.1373 - val_accuracy: 0.9638\n",
            "Epoch 11/15\n",
            "1500/1500 [==============================] - 8s 5ms/step - loss: 0.1457 - accuracy: 0.9608 - val_loss: 0.1764 - val_accuracy: 0.9530\n",
            "Epoch 12/15\n",
            "1500/1500 [==============================] - 8s 6ms/step - loss: 0.1276 - accuracy: 0.9653 - val_loss: 0.1408 - val_accuracy: 0.9643\n",
            "Epoch 13/15\n",
            "1500/1500 [==============================] - 8s 5ms/step - loss: 0.1411 - accuracy: 0.9605 - val_loss: 0.1513 - val_accuracy: 0.9630\n",
            "Epoch 14/15\n",
            "1500/1500 [==============================] - 8s 5ms/step - loss: 0.1313 - accuracy: 0.9642 - val_loss: 0.1589 - val_accuracy: 0.9561\n",
            "Epoch 15/15\n",
            "1500/1500 [==============================] - 8s 5ms/step - loss: 0.1285 - accuracy: 0.9640 - val_loss: 0.1357 - val_accuracy: 0.9633\n",
            "313/313 [==============================] - 1s 4ms/step - loss: 0.1395 - accuracy: 0.9612\n"
          ]
        }
      ]
    },
    {
      "cell_type": "code",
      "metadata": {
        "id": "jYHLl9eB5wS9"
      },
      "source": [
        "for i in models:\n",
        "  del i"
      ],
      "execution_count": null,
      "outputs": []
    },
    {
      "cell_type": "code",
      "metadata": {
        "colab": {
          "base_uri": "https://localhost:8080/"
        },
        "id": "GsE5biIK8HSP",
        "outputId": "99fad72f-212b-45da-f98b-6f60c2d09d9c"
      },
      "source": [
        "models_results"
      ],
      "execution_count": null,
      "outputs": [
        {
          "output_type": "execute_result",
          "data": {
            "text/plain": [
              "[[[2.4964842796325684, 0.1509000062942505],\n",
              "  [2.373863458633423, 0.11230000108480453],\n",
              "  [2.4067273139953613, 0.10450000315904617],\n",
              "  [2.333819627761841, 0.09160000085830688]],\n",
              " [[0.09420281648635864, 0.9735000133514404],\n",
              "  [0.11644316464662552, 0.9675999879837036],\n",
              "  [0.11403066664934158, 0.9692000150680542],\n",
              "  [0.13948561251163483, 0.9611999988555908]]]"
            ]
          },
          "metadata": {},
          "execution_count": 35
        }
      ]
    },
    {
      "cell_type": "markdown",
      "metadata": {
        "id": "SUR4opc-HNX8"
      },
      "source": [
        "заметим что в случае с сетью  с 3 скрытыми слоями начальная точка была выбрана плохо и сеть изначально хуже остальных так что ее результат нельзя считать статистически значимым. Общая тенденция понятна: двухслойная сеть и так дает хороший результат, увеличивая количество слоев можно добится лишь переобучения."
      ]
    },
    {
      "cell_type": "markdown",
      "metadata": {
        "id": "sHF-WJgxyqe8"
      },
      "source": [
        "Проекспериментируем с нейросетью с 2 скрытыми слоями с разным количеством нейронов в скрытых слоях."
      ]
    },
    {
      "cell_type": "code",
      "metadata": {
        "id": "FuFE5ih9wFDR"
      },
      "source": [
        "models2 = []\n",
        "models_results2 = [[], []]"
      ],
      "execution_count": null,
      "outputs": []
    },
    {
      "cell_type": "code",
      "metadata": {
        "id": "9lCF4zXv9U90",
        "colab": {
          "base_uri": "https://localhost:8080/"
        },
        "outputId": "2116565b-88d3-4079-fd05-284b6f3f0a9d"
      },
      "source": [
        "u = 0\n",
        "for i in [50, 100, 200, 500, 1000]:\n",
        "  model = create(2, n_neurons=i)\n",
        "\n",
        "  model.compile(optimizer='adam',\n",
        "          loss=keras.losses.CategoricalCrossentropy(),\n",
        "          metrics=['accuracy'])\n",
        "  \n",
        "  models2.append(model)\n",
        "  models_results2[0].append(model.evaluate(test_images, y_tt))\n",
        "\n"
      ],
      "execution_count": null,
      "outputs": [
        {
          "output_type": "stream",
          "name": "stdout",
          "text": [
            "313/313 [==============================] - 1s 3ms/step - loss: 2.4084 - accuracy: 0.0555\n",
            "313/313 [==============================] - 1s 3ms/step - loss: 2.3643 - accuracy: 0.0754\n",
            "313/313 [==============================] - 1s 3ms/step - loss: 2.5288 - accuracy: 0.0727\n",
            "313/313 [==============================] - 1s 3ms/step - loss: 2.4181 - accuracy: 0.0779\n",
            "313/313 [==============================] - 1s 3ms/step - loss: 2.4532 - accuracy: 0.0967\n"
          ]
        }
      ]
    },
    {
      "cell_type": "code",
      "metadata": {
        "colab": {
          "base_uri": "https://localhost:8080/"
        },
        "id": "_qM2NTBjxRXj",
        "outputId": "4d4fc7f7-09ff-4eb0-e2c7-dd195f207b4d"
      },
      "source": [
        "u = 0\n",
        "for i in [50, 100, 200, 500, 1000]:\n",
        "  model = models2[u]\n",
        "  model.fit(  \n",
        "    train_images[:,:],\n",
        "    y_t[:,:],\n",
        "    epochs=15,\n",
        "    batch_size=32, validation_split=0.2\n",
        "  )\n",
        "  u += 1\n",
        "  models_results2[1].append(model.evaluate(test_images, y_tt))\n"
      ],
      "execution_count": null,
      "outputs": [
        {
          "output_type": "stream",
          "name": "stdout",
          "text": [
            "Epoch 1/15\n",
            "1500/1500 [==============================] - 6s 4ms/step - loss: 0.3449 - accuracy: 0.8975 - val_loss: 0.2115 - val_accuracy: 0.9359\n",
            "Epoch 2/15\n",
            "1500/1500 [==============================] - 6s 4ms/step - loss: 0.1803 - accuracy: 0.9440 - val_loss: 0.1798 - val_accuracy: 0.9421\n",
            "Epoch 3/15\n",
            "1500/1500 [==============================] - 5s 3ms/step - loss: 0.1418 - accuracy: 0.9563 - val_loss: 0.1439 - val_accuracy: 0.9562\n",
            "Epoch 4/15\n",
            "1500/1500 [==============================] - 6s 4ms/step - loss: 0.1232 - accuracy: 0.9615 - val_loss: 0.1412 - val_accuracy: 0.9581\n",
            "Epoch 5/15\n",
            "1500/1500 [==============================] - 6s 4ms/step - loss: 0.1088 - accuracy: 0.9662 - val_loss: 0.1320 - val_accuracy: 0.9595\n",
            "Epoch 6/15\n",
            "1500/1500 [==============================] - 5s 3ms/step - loss: 0.0983 - accuracy: 0.9702 - val_loss: 0.1281 - val_accuracy: 0.9608\n",
            "Epoch 7/15\n",
            "1500/1500 [==============================] - 5s 3ms/step - loss: 0.0898 - accuracy: 0.9720 - val_loss: 0.1273 - val_accuracy: 0.9616\n",
            "Epoch 8/15\n",
            "1500/1500 [==============================] - 5s 3ms/step - loss: 0.0837 - accuracy: 0.9740 - val_loss: 0.1126 - val_accuracy: 0.9663\n",
            "Epoch 9/15\n",
            "1500/1500 [==============================] - 6s 4ms/step - loss: 0.0781 - accuracy: 0.9758 - val_loss: 0.1105 - val_accuracy: 0.9672\n",
            "Epoch 10/15\n",
            "1500/1500 [==============================] - 6s 4ms/step - loss: 0.0731 - accuracy: 0.9768 - val_loss: 0.1158 - val_accuracy: 0.9661\n",
            "Epoch 11/15\n",
            "1500/1500 [==============================] - 6s 4ms/step - loss: 0.0704 - accuracy: 0.9772 - val_loss: 0.1267 - val_accuracy: 0.9648\n",
            "Epoch 12/15\n",
            "1500/1500 [==============================] - 5s 3ms/step - loss: 0.0686 - accuracy: 0.9783 - val_loss: 0.1112 - val_accuracy: 0.9697\n",
            "Epoch 13/15\n",
            "1500/1500 [==============================] - 5s 3ms/step - loss: 0.0624 - accuracy: 0.9810 - val_loss: 0.1198 - val_accuracy: 0.9670\n",
            "Epoch 14/15\n",
            "1500/1500 [==============================] - 6s 4ms/step - loss: 0.0653 - accuracy: 0.9790 - val_loss: 0.1173 - val_accuracy: 0.9668\n",
            "Epoch 15/15\n",
            "1500/1500 [==============================] - 5s 3ms/step - loss: 0.0601 - accuracy: 0.9811 - val_loss: 0.1177 - val_accuracy: 0.9670\n",
            "313/313 [==============================] - 1s 3ms/step - loss: 0.1147 - accuracy: 0.9692\n",
            "Epoch 1/15\n",
            "1500/1500 [==============================] - 6s 4ms/step - loss: 0.3206 - accuracy: 0.9010 - val_loss: 0.1706 - val_accuracy: 0.9485\n",
            "Epoch 2/15\n",
            "1500/1500 [==============================] - 5s 4ms/step - loss: 0.1657 - accuracy: 0.9477 - val_loss: 0.1321 - val_accuracy: 0.9598\n",
            "Epoch 3/15\n",
            "1500/1500 [==============================] - 6s 4ms/step - loss: 0.1342 - accuracy: 0.9582 - val_loss: 0.1290 - val_accuracy: 0.9611\n",
            "Epoch 4/15\n",
            "1500/1500 [==============================] - 5s 3ms/step - loss: 0.1146 - accuracy: 0.9641 - val_loss: 0.1498 - val_accuracy: 0.9532\n",
            "Epoch 5/15\n",
            "1500/1500 [==============================] - 6s 4ms/step - loss: 0.1002 - accuracy: 0.9679 - val_loss: 0.1225 - val_accuracy: 0.9638\n",
            "Epoch 6/15\n",
            "1500/1500 [==============================] - 6s 4ms/step - loss: 0.0948 - accuracy: 0.9697 - val_loss: 0.1307 - val_accuracy: 0.9615\n",
            "Epoch 7/15\n",
            "1500/1500 [==============================] - 5s 4ms/step - loss: 0.0804 - accuracy: 0.9748 - val_loss: 0.1370 - val_accuracy: 0.9606\n",
            "Epoch 8/15\n",
            "1500/1500 [==============================] - 6s 4ms/step - loss: 0.0792 - accuracy: 0.9754 - val_loss: 0.1308 - val_accuracy: 0.9610\n",
            "Epoch 9/15\n",
            "1500/1500 [==============================] - 6s 4ms/step - loss: 0.0723 - accuracy: 0.9766 - val_loss: 0.1132 - val_accuracy: 0.9683\n",
            "Epoch 10/15\n",
            "1500/1500 [==============================] - 6s 4ms/step - loss: 0.0691 - accuracy: 0.9773 - val_loss: 0.1200 - val_accuracy: 0.9665\n",
            "Epoch 11/15\n",
            "1500/1500 [==============================] - 5s 4ms/step - loss: 0.0622 - accuracy: 0.9803 - val_loss: 0.1087 - val_accuracy: 0.9693\n",
            "Epoch 12/15\n",
            "1500/1500 [==============================] - 5s 4ms/step - loss: 0.0573 - accuracy: 0.9812 - val_loss: 0.1240 - val_accuracy: 0.9671\n",
            "Epoch 13/15\n",
            "1500/1500 [==============================] - 6s 4ms/step - loss: 0.0549 - accuracy: 0.9819 - val_loss: 0.1150 - val_accuracy: 0.9687\n",
            "Epoch 14/15\n",
            "1500/1500 [==============================] - 6s 4ms/step - loss: 0.0573 - accuracy: 0.9807 - val_loss: 0.1102 - val_accuracy: 0.9701\n",
            "Epoch 15/15\n",
            "1500/1500 [==============================] - 6s 4ms/step - loss: 0.0508 - accuracy: 0.9834 - val_loss: 0.1128 - val_accuracy: 0.9703\n",
            "313/313 [==============================] - 1s 3ms/step - loss: 0.1108 - accuracy: 0.9693\n",
            "Epoch 1/15\n",
            "1500/1500 [==============================] - 7s 4ms/step - loss: 0.3098 - accuracy: 0.9038 - val_loss: 0.1875 - val_accuracy: 0.9411\n",
            "Epoch 2/15\n",
            "1500/1500 [==============================] - 6s 4ms/step - loss: 0.1619 - accuracy: 0.9494 - val_loss: 0.1527 - val_accuracy: 0.9542\n",
            "Epoch 3/15\n",
            "1500/1500 [==============================] - 6s 4ms/step - loss: 0.1257 - accuracy: 0.9614 - val_loss: 0.1404 - val_accuracy: 0.9588\n",
            "Epoch 4/15\n",
            "1500/1500 [==============================] - 5s 4ms/step - loss: 0.1071 - accuracy: 0.9658 - val_loss: 0.1467 - val_accuracy: 0.9562\n",
            "Epoch 5/15\n",
            "1500/1500 [==============================] - 5s 4ms/step - loss: 0.0919 - accuracy: 0.9705 - val_loss: 0.1129 - val_accuracy: 0.9673\n",
            "Epoch 6/15\n",
            "1500/1500 [==============================] - 6s 4ms/step - loss: 0.0825 - accuracy: 0.9736 - val_loss: 0.1085 - val_accuracy: 0.9687\n",
            "Epoch 7/15\n",
            "1500/1500 [==============================] - 5s 4ms/step - loss: 0.0781 - accuracy: 0.9748 - val_loss: 0.1021 - val_accuracy: 0.9704\n",
            "Epoch 8/15\n",
            "1500/1500 [==============================] - 6s 4ms/step - loss: 0.0661 - accuracy: 0.9787 - val_loss: 0.1107 - val_accuracy: 0.9682\n",
            "Epoch 9/15\n",
            "1500/1500 [==============================] - 5s 4ms/step - loss: 0.0630 - accuracy: 0.9796 - val_loss: 0.1099 - val_accuracy: 0.9685\n",
            "Epoch 10/15\n",
            "1500/1500 [==============================] - 6s 4ms/step - loss: 0.0585 - accuracy: 0.9808 - val_loss: 0.1267 - val_accuracy: 0.9653\n",
            "Epoch 11/15\n",
            "1500/1500 [==============================] - 5s 4ms/step - loss: 0.0572 - accuracy: 0.9809 - val_loss: 0.1145 - val_accuracy: 0.9680\n",
            "Epoch 12/15\n",
            "1500/1500 [==============================] - 5s 4ms/step - loss: 0.0532 - accuracy: 0.9825 - val_loss: 0.1418 - val_accuracy: 0.9613\n",
            "Epoch 13/15\n",
            "1500/1500 [==============================] - 5s 4ms/step - loss: 0.0484 - accuracy: 0.9841 - val_loss: 0.1257 - val_accuracy: 0.9666\n",
            "Epoch 14/15\n",
            "1500/1500 [==============================] - 6s 4ms/step - loss: 0.0479 - accuracy: 0.9840 - val_loss: 0.1451 - val_accuracy: 0.9621\n",
            "Epoch 15/15\n",
            "1500/1500 [==============================] - 5s 4ms/step - loss: 0.0428 - accuracy: 0.9860 - val_loss: 0.1199 - val_accuracy: 0.9661\n",
            "313/313 [==============================] - 1s 3ms/step - loss: 0.1075 - accuracy: 0.9705\n",
            "Epoch 1/15\n",
            "1500/1500 [==============================] - 6s 4ms/step - loss: 0.3313 - accuracy: 0.8983 - val_loss: 0.1965 - val_accuracy: 0.9392\n",
            "Epoch 2/15\n",
            "1500/1500 [==============================] - 6s 4ms/step - loss: 0.1782 - accuracy: 0.9460 - val_loss: 0.1696 - val_accuracy: 0.9477\n",
            "Epoch 3/15\n",
            "1500/1500 [==============================] - 6s 4ms/step - loss: 0.1412 - accuracy: 0.9568 - val_loss: 0.1427 - val_accuracy: 0.9596\n",
            "Epoch 4/15\n",
            "1500/1500 [==============================] - 6s 4ms/step - loss: 0.1225 - accuracy: 0.9631 - val_loss: 0.1597 - val_accuracy: 0.9554\n",
            "Epoch 5/15\n",
            "1500/1500 [==============================] - 6s 4ms/step - loss: 0.1059 - accuracy: 0.9681 - val_loss: 0.1278 - val_accuracy: 0.9641\n",
            "Epoch 6/15\n",
            "1500/1500 [==============================] - 6s 4ms/step - loss: 0.0954 - accuracy: 0.9703 - val_loss: 0.1298 - val_accuracy: 0.9619\n",
            "Epoch 7/15\n",
            "1500/1500 [==============================] - 6s 4ms/step - loss: 0.0847 - accuracy: 0.9739 - val_loss: 0.1259 - val_accuracy: 0.9638\n",
            "Epoch 8/15\n",
            "1500/1500 [==============================] - 6s 4ms/step - loss: 0.0787 - accuracy: 0.9750 - val_loss: 0.1040 - val_accuracy: 0.9712\n",
            "Epoch 9/15\n",
            "1500/1500 [==============================] - 6s 4ms/step - loss: 0.0727 - accuracy: 0.9770 - val_loss: 0.1189 - val_accuracy: 0.9697\n",
            "Epoch 10/15\n",
            "1500/1500 [==============================] - 6s 4ms/step - loss: 0.0679 - accuracy: 0.9791 - val_loss: 0.0994 - val_accuracy: 0.9735\n",
            "Epoch 11/15\n",
            "1500/1500 [==============================] - 6s 4ms/step - loss: 0.0634 - accuracy: 0.9798 - val_loss: 0.1230 - val_accuracy: 0.9667\n",
            "Epoch 12/15\n",
            "1500/1500 [==============================] - 6s 4ms/step - loss: 0.0593 - accuracy: 0.9810 - val_loss: 0.1106 - val_accuracy: 0.9718\n",
            "Epoch 13/15\n",
            "1500/1500 [==============================] - 6s 4ms/step - loss: 0.0561 - accuracy: 0.9818 - val_loss: 0.1203 - val_accuracy: 0.9692\n",
            "Epoch 14/15\n",
            "1500/1500 [==============================] - 6s 4ms/step - loss: 0.0523 - accuracy: 0.9830 - val_loss: 0.1075 - val_accuracy: 0.9738\n",
            "Epoch 15/15\n",
            "1500/1500 [==============================] - 6s 4ms/step - loss: 0.0483 - accuracy: 0.9849 - val_loss: 0.1117 - val_accuracy: 0.9714\n",
            "313/313 [==============================] - 1s 3ms/step - loss: 0.1107 - accuracy: 0.9707\n",
            "Epoch 1/15\n",
            "1500/1500 [==============================] - 8s 5ms/step - loss: 0.3840 - accuracy: 0.8830 - val_loss: 0.2200 - val_accuracy: 0.9368\n",
            "Epoch 2/15\n",
            "1500/1500 [==============================] - 8s 5ms/step - loss: 0.2261 - accuracy: 0.9317 - val_loss: 0.1733 - val_accuracy: 0.9498\n",
            "Epoch 3/15\n",
            "1500/1500 [==============================] - 8s 5ms/step - loss: 0.1939 - accuracy: 0.9434 - val_loss: 0.2128 - val_accuracy: 0.9419\n",
            "Epoch 4/15\n",
            "1500/1500 [==============================] - 8s 5ms/step - loss: 0.1804 - accuracy: 0.9484 - val_loss: 0.1739 - val_accuracy: 0.9530\n",
            "Epoch 5/15\n",
            "1500/1500 [==============================] - 8s 5ms/step - loss: 0.1547 - accuracy: 0.9562 - val_loss: 0.1517 - val_accuracy: 0.9582\n",
            "Epoch 6/15\n",
            "1500/1500 [==============================] - 8s 5ms/step - loss: 0.1390 - accuracy: 0.9599 - val_loss: 0.1321 - val_accuracy: 0.9626\n",
            "Epoch 7/15\n",
            "1500/1500 [==============================] - 8s 5ms/step - loss: 0.1266 - accuracy: 0.9633 - val_loss: 0.1613 - val_accuracy: 0.9576\n",
            "Epoch 8/15\n",
            "1500/1500 [==============================] - 8s 5ms/step - loss: 0.1226 - accuracy: 0.9647 - val_loss: 0.1603 - val_accuracy: 0.9597\n",
            "Epoch 9/15\n",
            "1500/1500 [==============================] - 8s 5ms/step - loss: 0.1108 - accuracy: 0.9678 - val_loss: 0.1457 - val_accuracy: 0.9651\n",
            "Epoch 10/15\n",
            "1500/1500 [==============================] - 8s 5ms/step - loss: 0.1091 - accuracy: 0.9684 - val_loss: 0.1297 - val_accuracy: 0.9672\n",
            "Epoch 11/15\n",
            "1500/1500 [==============================] - 8s 5ms/step - loss: 0.1009 - accuracy: 0.9710 - val_loss: 0.1354 - val_accuracy: 0.9657\n",
            "Epoch 12/15\n",
            "1500/1500 [==============================] - 8s 5ms/step - loss: 0.1007 - accuracy: 0.9703 - val_loss: 0.1380 - val_accuracy: 0.9656\n",
            "Epoch 13/15\n",
            "1500/1500 [==============================] - 8s 5ms/step - loss: 0.0945 - accuracy: 0.9731 - val_loss: 0.1603 - val_accuracy: 0.9613\n",
            "Epoch 14/15\n",
            "1500/1500 [==============================] - 8s 5ms/step - loss: 0.0858 - accuracy: 0.9745 - val_loss: 0.1621 - val_accuracy: 0.9617\n",
            "Epoch 15/15\n",
            "1500/1500 [==============================] - 8s 5ms/step - loss: 0.0850 - accuracy: 0.9755 - val_loss: 0.1598 - val_accuracy: 0.9663\n",
            "313/313 [==============================] - 1s 3ms/step - loss: 0.1446 - accuracy: 0.9687\n"
          ]
        }
      ]
    },
    {
      "cell_type": "code",
      "metadata": {
        "colab": {
          "base_uri": "https://localhost:8080/"
        },
        "id": "3K-bUGqJAPXB",
        "outputId": "b636c0fd-7460-4b91-9979-e13ef11da3fa"
      },
      "source": [
        "models_results2"
      ],
      "execution_count": null,
      "outputs": [
        {
          "output_type": "execute_result",
          "data": {
            "text/plain": [
              "[[[2.4083526134490967, 0.05550000071525574],\n",
              "  [2.3642537593841553, 0.07540000230073929],\n",
              "  [2.528761625289917, 0.07270000129938126],\n",
              "  [2.418097734451294, 0.0778999999165535],\n",
              "  [2.453226089477539, 0.09669999778270721]],\n",
              " [[0.1146511361002922, 0.9692000150680542],\n",
              "  [0.11080296337604523, 0.9692999720573425],\n",
              "  [0.10749316215515137, 0.9704999923706055],\n",
              "  [0.11071991175413132, 0.9707000255584717],\n",
              "  [0.14459529519081116, 0.9686999917030334]]]"
            ]
          },
          "metadata": {},
          "execution_count": 15
        }
      ]
    },
    {
      "cell_type": "markdown",
      "metadata": {
        "id": "hUvNxqDyAfvJ"
      },
      "source": [
        "Можно заметить что модель с 50 нейронов в скрытых слоях проигрывает в качестве тем что с 100 и 200 и 500. А модель с 1000 нейронов уже подает признаки переобучения. Так как прирост не слишком большой, выберем 50 нейронов как оптимум для нашей нейронки."
      ]
    },
    {
      "cell_type": "code",
      "metadata": {
        "id": "LOU74KjPRcrC"
      },
      "source": [
        "for i in models2:\n",
        "  del i"
      ],
      "execution_count": null,
      "outputs": []
    },
    {
      "cell_type": "code",
      "metadata": {
        "colab": {
          "base_uri": "https://localhost:8080/",
          "height": 478
        },
        "id": "jaqCLGg3w_Nl",
        "outputId": "ea54f764-66cb-41c7-817a-44626957a677"
      },
      "source": [
        "# создаем модель model\n",
        "model = create(hidden_layers=2, n_neurons=50)\n",
        "# сохраняем ее веса (это начальная точка) model.save_weights('model.h5')\n",
        "model.save_weights('model.h5')\n",
        "\n",
        "plt.figure(figsize=(16,7))\n",
        "\n",
        "# число рабочих эпох\n",
        "epochs = 15\n",
        "# вектор для выводв результатов\n",
        "epoch = np.arange(epochs+1)\n",
        "\n",
        "# будем изменять оптимизаторы\n",
        "\n",
        "#opt_list = [keras.optimizers.SGD( ),keras.optimizers.Adam( ),keras.optimizers.Nadam( )]\n",
        "for i_optim in ['SGD','RMSProp','adam','NAdam']:\n",
        "  # создаем рабочую модель modeli куда будем загружать эти вес (она должна быть идентичной структуры)\n",
        "  modeli = create(hidden_layers=2, n_neurons=50)\n",
        "  # загружаем веса modeli.load_weights('model.h5')\n",
        "  modeli.load_weights('model.h5')\n",
        "  # компилируем modeli с одним из оптимизаторов\n",
        "  modeli.compile(\n",
        "      optimizer=i_optim,\n",
        "      loss='categorical_crossentropy',\n",
        "      metrics=['accuracy'],\n",
        "      )\n",
        "  # вычисляем ошибку для modeli без обучения\n",
        "  hh0_tr = modeli.evaluate(  train_images[:48000,:], to_categorical(train_labels[:48000]),verbose = 0)\n",
        "  hh0_val = modeli.evaluate(  train_images[48000:,:], to_categorical(train_labels[48000:]),verbose = 0)\n",
        "  # проводим обучение модели \n",
        "  hh = modeli.fit(\n",
        "                  train_images,\n",
        "                  to_categorical(train_labels),\n",
        "                  epochs=epochs,\n",
        "                  batch_size=32, validation_split=0.2, verbose = 0\n",
        "                  )\n",
        "  # картинки\n",
        "  plt.plot(epoch,np.log([hh0_tr[0]]+hh.history['loss']),'-',label = modeli.optimizer.get_config()['name']+' train')\n",
        "  plt.plot(epoch,np.log([hh0_val[0]]+hh.history['val_loss']),'--',label = modeli.optimizer.get_config()['name']+' val')\n",
        "plt.legend()\n",
        "plt.grid('On')\n",
        "\n",
        "plt.title('нейросети от оптимизатора log(loss)')\n",
        "plt.xlabel('epoch')\n",
        "plt.ylabel('log(loss)')\n",
        "plt.show()\n"
      ],
      "execution_count": null,
      "outputs": [
        {
          "output_type": "display_data",
          "data": {
            "image/png": "[encoded data removed]",
            "text/plain": [
              "<Figure size 1152x504 with 1 Axes>"
            ]
          },
          "metadata": {
            "needs_background": "light"
          }
        }
      ]
    },
    {
      "cell_type": "markdown",
      "metadata": {
        "id": "8_CEBqkMXcDs"
      },
      "source": [
        "Лучше всех и на тренировочном и на валидационом наборе справился SGD"
      ]
    },
    {
      "cell_type": "code",
      "metadata": {
        "colab": {
          "base_uri": "https://localhost:8080/"
        },
        "id": "viS_E5s6z2UU",
        "outputId": "ff0ee975-9028-4c1d-bcf6-9c1bc1ed7015"
      },
      "source": [
        " modeli.optimizer.get_config()"
      ],
      "execution_count": null,
      "outputs": [
        {
          "output_type": "execute_result",
          "data": {
            "text/plain": [
              "{'beta_1': 0.9,\n",
              " 'beta_2': 0.999,\n",
              " 'decay': 0.004,\n",
              " 'epsilon': 1e-07,\n",
              " 'learning_rate': 0.001,\n",
              " 'name': 'Nadam'}"
            ]
          },
          "metadata": {},
          "execution_count": 12
        }
      ]
    },
    {
      "cell_type": "code",
      "metadata": {
        "id": "91ityVbcXqmZ"
      },
      "source": [
        "from sklearn.metrics import classification_report"
      ],
      "execution_count": null,
      "outputs": []
    },
    {
      "cell_type": "code",
      "metadata": {
        "id": "42wg1Xz6aK-f"
      },
      "source": [
        "preds = pd.DataFrame(modeli.predict(test_images))"
      ],
      "execution_count": null,
      "outputs": []
    },
    {
      "cell_type": "code",
      "metadata": {
        "colab": {
          "base_uri": "https://localhost:8080/",
          "height": 293
        },
        "id": "-0NCJ08na0yY",
        "outputId": "2f5710da-fbb2-481e-a65a-34078c9e15c1"
      },
      "source": [
        "preds.head()"
      ],
      "execution_count": null,
      "outputs": [
        {
          "output_type": "execute_result",
          "data": {
            "text/html": [
              "<div>\n",
              "<style scoped>\n",
              "    .dataframe tbody tr th:only-of-type {\n",
              "        vertical-align: middle;\n",
              "    }\n",
              "\n",
              "    .dataframe tbody tr th {\n",
              "        vertical-align: top;\n",
              "    }\n",
              "\n",
              "    .dataframe thead th {\n",
              "        text-align: right;\n",
              "    }\n",
              "</style>\n",
              "<table border=\"1\" class=\"dataframe\">\n",
              "  <thead>\n",
              "    <tr style=\"text-align: right;\">\n",
              "      <th></th>\n",
              "      <th>0</th>\n",
              "      <th>1</th>\n",
              "      <th>2</th>\n",
              "      <th>3</th>\n",
              "      <th>4</th>\n",
              "      <th>5</th>\n",
              "      <th>6</th>\n",
              "      <th>7</th>\n",
              "      <th>8</th>\n",
              "      <th>9</th>\n",
              "    </tr>\n",
              "  </thead>\n",
              "  <tbody>\n",
              "    <tr>\n",
              "      <th>0</th>\n",
              "      <td>1.708896e-05</td>\n",
              "      <td>1.892544e-04</td>\n",
              "      <td>0.000343</td>\n",
              "      <td>4.491081e-05</td>\n",
              "      <td>1.047102e-05</td>\n",
              "      <td>1.067813e-06</td>\n",
              "      <td>9.030241e-10</td>\n",
              "      <td>0.999172</td>\n",
              "      <td>0.000003</td>\n",
              "      <td>2.185921e-04</td>\n",
              "    </tr>\n",
              "    <tr>\n",
              "      <th>1</th>\n",
              "      <td>4.828311e-06</td>\n",
              "      <td>9.983388e-05</td>\n",
              "      <td>0.999762</td>\n",
              "      <td>9.335185e-05</td>\n",
              "      <td>1.287114e-07</td>\n",
              "      <td>2.120840e-07</td>\n",
              "      <td>1.973508e-05</td>\n",
              "      <td>0.000003</td>\n",
              "      <td>0.000016</td>\n",
              "      <td>2.647289e-08</td>\n",
              "    </tr>\n",
              "    <tr>\n",
              "      <th>2</th>\n",
              "      <td>3.221642e-08</td>\n",
              "      <td>9.999105e-01</td>\n",
              "      <td>0.000005</td>\n",
              "      <td>2.861952e-06</td>\n",
              "      <td>1.613556e-06</td>\n",
              "      <td>1.124954e-06</td>\n",
              "      <td>4.218715e-07</td>\n",
              "      <td>0.000076</td>\n",
              "      <td>0.000003</td>\n",
              "      <td>2.092952e-07</td>\n",
              "    </tr>\n",
              "    <tr>\n",
              "      <th>3</th>\n",
              "      <td>9.994230e-01</td>\n",
              "      <td>7.089341e-07</td>\n",
              "      <td>0.000105</td>\n",
              "      <td>5.095846e-05</td>\n",
              "      <td>1.816443e-05</td>\n",
              "      <td>4.247626e-06</td>\n",
              "      <td>1.519997e-04</td>\n",
              "      <td>0.000054</td>\n",
              "      <td>0.000029</td>\n",
              "      <td>1.635182e-04</td>\n",
              "    </tr>\n",
              "    <tr>\n",
              "      <th>4</th>\n",
              "      <td>7.661193e-06</td>\n",
              "      <td>1.286143e-06</td>\n",
              "      <td>0.000019</td>\n",
              "      <td>2.955762e-07</td>\n",
              "      <td>9.995678e-01</td>\n",
              "      <td>5.640995e-07</td>\n",
              "      <td>8.331578e-06</td>\n",
              "      <td>0.000012</td>\n",
              "      <td>0.000002</td>\n",
              "      <td>3.800299e-04</td>\n",
              "    </tr>\n",
              "  </tbody>\n",
              "</table>\n",
              "</div>"
            ],
            "text/plain": [
              "              0             1         2  ...         7         8             9\n",
              "0  1.708896e-05  1.892544e-04  0.000343  ...  0.999172  0.000003  2.185921e-04\n",
              "1  4.828311e-06  9.983388e-05  0.999762  ...  0.000003  0.000016  2.647289e-08\n",
              "2  3.221642e-08  9.999105e-01  0.000005  ...  0.000076  0.000003  2.092952e-07\n",
              "3  9.994230e-01  7.089341e-07  0.000105  ...  0.000054  0.000029  1.635182e-04\n",
              "4  7.661193e-06  1.286143e-06  0.000019  ...  0.000012  0.000002  3.800299e-04\n",
              "\n",
              "[5 rows x 10 columns]"
            ]
          },
          "metadata": {},
          "execution_count": 36
        }
      ]
    },
    {
      "cell_type": "code",
      "metadata": {
        "id": "sWzvBDsUXp5O"
      },
      "source": [
        "pred_lst = []\n",
        "for i in range(preds.shape[0]):\n",
        "  pred_lst.append(preds.loc[i, :].argmax())"
      ],
      "execution_count": null,
      "outputs": []
    },
    {
      "cell_type": "code",
      "metadata": {
        "colab": {
          "base_uri": "https://localhost:8080/"
        },
        "id": "sgS86_teaEDd",
        "outputId": "744e40fe-3ee5-4cc3-ae14-074d886f7245"
      },
      "source": [
        "print('\\nClassification Report\\n')\n",
        "print(classification_report(test_labels, pred_lst))"
      ],
      "execution_count": null,
      "outputs": [
        {
          "output_type": "stream",
          "name": "stdout",
          "text": [
            "\n",
            "Classification Report\n",
            "\n",
            "              precision    recall  f1-score   support\n",
            "\n",
            "           0       0.98      0.99      0.98       980\n",
            "           1       0.99      0.98      0.99      1135\n",
            "           2       0.95      0.98      0.97      1032\n",
            "           3       0.96      0.98      0.97      1010\n",
            "           4       0.99      0.96      0.98       982\n",
            "           5       0.96      0.96      0.96       892\n",
            "           6       0.99      0.97      0.98       958\n",
            "           7       0.98      0.97      0.97      1028\n",
            "           8       0.98      0.96      0.97       974\n",
            "           9       0.96      0.97      0.96      1009\n",
            "\n",
            "    accuracy                           0.97     10000\n",
            "   macro avg       0.97      0.97      0.97     10000\n",
            "weighted avg       0.97      0.97      0.97     10000\n",
            "\n"
          ]
        }
      ]
    },
    {
      "cell_type": "markdown",
      "metadata": {
        "id": "osU2oROgpKI_"
      },
      "source": [
        "По итогам этой работы можно придти к выводу что не стоит выбирать больщое число скрытых слоев \n",
        "и количество нейронов чтоб это не привело к переобучению и не помешает эффективности."
      ]
    },
    {
      "cell_type": "code",
      "metadata": {
        "id": "BFE4dJacpGm-"
      },
      "source": [
        ""
      ],
      "execution_count": null,
      "outputs": []
    }
  ]
}